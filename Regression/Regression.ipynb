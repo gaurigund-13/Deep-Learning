{
 "cells": [
  {
   "cell_type": "markdown",
   "metadata": {},
   "source": [
    "### Create a regression dataset using scikit learn"
   ]
  },
  {
   "cell_type": "code",
   "execution_count": 1,
   "metadata": {},
   "outputs": [],
   "source": [
    "from warnings import filterwarnings\n",
    "filterwarnings('ignore')\n",
    "from sklearn.datasets import make_regression"
   ]
  },
  {
   "cell_type": "code",
   "execution_count": 2,
   "metadata": {},
   "outputs": [],
   "source": [
    "x, y = make_regression(n_samples=3000, n_features=25,\n",
    "                       n_informative=28, noise=10, random_state=21)"
   ]
  },
  {
   "cell_type": "code",
   "execution_count": 3,
   "metadata": {},
   "outputs": [
    {
     "data": {
      "text/plain": [
       "array([[-0.06030132,  0.57260078,  0.19679663, ...,  0.09535084,\n",
       "         0.81328367, -1.6748384 ],\n",
       "       [ 0.2072955 , -1.36713951, -2.80778473, ..., -1.13806888,\n",
       "         1.3920117 ,  0.98637127],\n",
       "       [ 0.2407746 , -0.32222326,  0.30412961, ...,  0.69101589,\n",
       "         0.85257955,  0.04610614],\n",
       "       ...,\n",
       "       [-0.52809176, -0.38893892,  1.1400362 , ..., -0.11651855,\n",
       "        -0.11648571,  0.67108611],\n",
       "       [-1.35400656,  0.3432716 ,  0.48553016, ..., -1.36654841,\n",
       "         0.42975049,  0.72488143],\n",
       "       [-0.51944868,  0.75040403, -0.28348986, ...,  0.83642785,\n",
       "        -0.48183152,  1.28731684]])"
      ]
     },
     "execution_count": 3,
     "metadata": {},
     "output_type": "execute_result"
    }
   ],
   "source": [
    "x"
   ]
  },
  {
   "cell_type": "code",
   "execution_count": 4,
   "metadata": {},
   "outputs": [
    {
     "data": {
      "text/plain": [
       "(3000, 25)"
      ]
     },
     "execution_count": 4,
     "metadata": {},
     "output_type": "execute_result"
    }
   ],
   "source": [
    "x.shape"
   ]
  },
  {
   "cell_type": "code",
   "execution_count": 5,
   "metadata": {},
   "outputs": [
    {
     "data": {
      "text/plain": [
       "array([ -62.40523299, -113.27148952,   51.85858942, ...,  -19.57397116,\n",
       "        -53.26797737,  366.0781158 ])"
      ]
     },
     "execution_count": 5,
     "metadata": {},
     "output_type": "execute_result"
    }
   ],
   "source": [
    "y"
   ]
  },
  {
   "cell_type": "markdown",
   "metadata": {},
   "source": [
    "### Converting x and y to a dataframe"
   ]
  },
  {
   "cell_type": "code",
   "execution_count": 6,
   "metadata": {},
   "outputs": [
    {
     "data": {
      "text/plain": [
       "['x1',\n",
       " 'x2',\n",
       " 'x3',\n",
       " 'x4',\n",
       " 'x5',\n",
       " 'x6',\n",
       " 'x7',\n",
       " 'x8',\n",
       " 'x9',\n",
       " 'x10',\n",
       " 'x11',\n",
       " 'x12',\n",
       " 'x13',\n",
       " 'x14',\n",
       " 'x15',\n",
       " 'x16',\n",
       " 'x17',\n",
       " 'x18',\n",
       " 'x19',\n",
       " 'x20',\n",
       " 'x21',\n",
       " 'x22',\n",
       " 'x23',\n",
       " 'x24',\n",
       " 'x25']"
      ]
     },
     "execution_count": 6,
     "metadata": {},
     "output_type": "execute_result"
    }
   ],
   "source": [
    "cols = [f'x{i+1}' for i in range(25)]\n",
    "cols"
   ]
  },
  {
   "cell_type": "code",
   "execution_count": 7,
   "metadata": {},
   "outputs": [
    {
     "data": {
      "text/html": [
       "<div>\n",
       "<style scoped>\n",
       "    .dataframe tbody tr th:only-of-type {\n",
       "        vertical-align: middle;\n",
       "    }\n",
       "\n",
       "    .dataframe tbody tr th {\n",
       "        vertical-align: top;\n",
       "    }\n",
       "\n",
       "    .dataframe thead th {\n",
       "        text-align: right;\n",
       "    }\n",
       "</style>\n",
       "<table border=\"1\" class=\"dataframe\">\n",
       "  <thead>\n",
       "    <tr style=\"text-align: right;\">\n",
       "      <th></th>\n",
       "      <th>x1</th>\n",
       "      <th>x2</th>\n",
       "      <th>x3</th>\n",
       "      <th>x4</th>\n",
       "      <th>x5</th>\n",
       "      <th>x6</th>\n",
       "      <th>x7</th>\n",
       "      <th>x8</th>\n",
       "      <th>x9</th>\n",
       "      <th>x10</th>\n",
       "      <th>...</th>\n",
       "      <th>x16</th>\n",
       "      <th>x17</th>\n",
       "      <th>x18</th>\n",
       "      <th>x19</th>\n",
       "      <th>x20</th>\n",
       "      <th>x21</th>\n",
       "      <th>x22</th>\n",
       "      <th>x23</th>\n",
       "      <th>x24</th>\n",
       "      <th>x25</th>\n",
       "    </tr>\n",
       "  </thead>\n",
       "  <tbody>\n",
       "    <tr>\n",
       "      <th>0</th>\n",
       "      <td>-0.060301</td>\n",
       "      <td>0.572601</td>\n",
       "      <td>0.196797</td>\n",
       "      <td>0.849309</td>\n",
       "      <td>-0.151271</td>\n",
       "      <td>0.603302</td>\n",
       "      <td>0.668919</td>\n",
       "      <td>-0.127491</td>\n",
       "      <td>-0.407493</td>\n",
       "      <td>-1.033919</td>\n",
       "      <td>...</td>\n",
       "      <td>0.447117</td>\n",
       "      <td>0.483024</td>\n",
       "      <td>-0.181287</td>\n",
       "      <td>-0.110091</td>\n",
       "      <td>0.372669</td>\n",
       "      <td>0.384173</td>\n",
       "      <td>-0.479245</td>\n",
       "      <td>0.095351</td>\n",
       "      <td>0.813284</td>\n",
       "      <td>-1.674838</td>\n",
       "    </tr>\n",
       "    <tr>\n",
       "      <th>1</th>\n",
       "      <td>0.207295</td>\n",
       "      <td>-1.367140</td>\n",
       "      <td>-2.807785</td>\n",
       "      <td>0.665635</td>\n",
       "      <td>-0.896433</td>\n",
       "      <td>-0.367675</td>\n",
       "      <td>1.271813</td>\n",
       "      <td>-2.012129</td>\n",
       "      <td>1.222787</td>\n",
       "      <td>0.599198</td>\n",
       "      <td>...</td>\n",
       "      <td>-0.045074</td>\n",
       "      <td>-0.758881</td>\n",
       "      <td>-1.559413</td>\n",
       "      <td>1.215460</td>\n",
       "      <td>1.687042</td>\n",
       "      <td>-1.218267</td>\n",
       "      <td>1.480352</td>\n",
       "      <td>-1.138069</td>\n",
       "      <td>1.392012</td>\n",
       "      <td>0.986371</td>\n",
       "    </tr>\n",
       "    <tr>\n",
       "      <th>2</th>\n",
       "      <td>0.240775</td>\n",
       "      <td>-0.322223</td>\n",
       "      <td>0.304130</td>\n",
       "      <td>0.183706</td>\n",
       "      <td>1.016833</td>\n",
       "      <td>1.022307</td>\n",
       "      <td>-0.839059</td>\n",
       "      <td>0.126960</td>\n",
       "      <td>-0.610444</td>\n",
       "      <td>0.421872</td>\n",
       "      <td>...</td>\n",
       "      <td>-0.115607</td>\n",
       "      <td>-1.388904</td>\n",
       "      <td>-1.375788</td>\n",
       "      <td>1.025766</td>\n",
       "      <td>-0.772362</td>\n",
       "      <td>0.710625</td>\n",
       "      <td>0.517164</td>\n",
       "      <td>0.691016</td>\n",
       "      <td>0.852580</td>\n",
       "      <td>0.046106</td>\n",
       "    </tr>\n",
       "    <tr>\n",
       "      <th>3</th>\n",
       "      <td>1.315685</td>\n",
       "      <td>1.311230</td>\n",
       "      <td>0.860867</td>\n",
       "      <td>0.597427</td>\n",
       "      <td>-0.335792</td>\n",
       "      <td>-1.705438</td>\n",
       "      <td>-0.319299</td>\n",
       "      <td>0.973936</td>\n",
       "      <td>-0.776913</td>\n",
       "      <td>0.718451</td>\n",
       "      <td>...</td>\n",
       "      <td>0.215931</td>\n",
       "      <td>0.276587</td>\n",
       "      <td>-1.558216</td>\n",
       "      <td>-0.600409</td>\n",
       "      <td>0.621948</td>\n",
       "      <td>0.201232</td>\n",
       "      <td>1.050233</td>\n",
       "      <td>-0.519521</td>\n",
       "      <td>-0.643553</td>\n",
       "      <td>-1.952818</td>\n",
       "    </tr>\n",
       "    <tr>\n",
       "      <th>4</th>\n",
       "      <td>0.114833</td>\n",
       "      <td>0.962055</td>\n",
       "      <td>2.224792</td>\n",
       "      <td>2.837645</td>\n",
       "      <td>1.737073</td>\n",
       "      <td>1.497914</td>\n",
       "      <td>-0.879172</td>\n",
       "      <td>-0.585533</td>\n",
       "      <td>-0.630482</td>\n",
       "      <td>1.441261</td>\n",
       "      <td>...</td>\n",
       "      <td>0.876545</td>\n",
       "      <td>-0.707146</td>\n",
       "      <td>1.004523</td>\n",
       "      <td>1.306752</td>\n",
       "      <td>-1.063000</td>\n",
       "      <td>0.554729</td>\n",
       "      <td>-0.378835</td>\n",
       "      <td>-0.236318</td>\n",
       "      <td>0.018657</td>\n",
       "      <td>-0.372142</td>\n",
       "    </tr>\n",
       "  </tbody>\n",
       "</table>\n",
       "<p>5 rows × 25 columns</p>\n",
       "</div>"
      ],
      "text/plain": [
       "         x1        x2        x3        x4        x5        x6        x7  \\\n",
       "0 -0.060301  0.572601  0.196797  0.849309 -0.151271  0.603302  0.668919   \n",
       "1  0.207295 -1.367140 -2.807785  0.665635 -0.896433 -0.367675  1.271813   \n",
       "2  0.240775 -0.322223  0.304130  0.183706  1.016833  1.022307 -0.839059   \n",
       "3  1.315685  1.311230  0.860867  0.597427 -0.335792 -1.705438 -0.319299   \n",
       "4  0.114833  0.962055  2.224792  2.837645  1.737073  1.497914 -0.879172   \n",
       "\n",
       "         x8        x9       x10  ...       x16       x17       x18       x19  \\\n",
       "0 -0.127491 -0.407493 -1.033919  ...  0.447117  0.483024 -0.181287 -0.110091   \n",
       "1 -2.012129  1.222787  0.599198  ... -0.045074 -0.758881 -1.559413  1.215460   \n",
       "2  0.126960 -0.610444  0.421872  ... -0.115607 -1.388904 -1.375788  1.025766   \n",
       "3  0.973936 -0.776913  0.718451  ...  0.215931  0.276587 -1.558216 -0.600409   \n",
       "4 -0.585533 -0.630482  1.441261  ...  0.876545 -0.707146  1.004523  1.306752   \n",
       "\n",
       "        x20       x21       x22       x23       x24       x25  \n",
       "0  0.372669  0.384173 -0.479245  0.095351  0.813284 -1.674838  \n",
       "1  1.687042 -1.218267  1.480352 -1.138069  1.392012  0.986371  \n",
       "2 -0.772362  0.710625  0.517164  0.691016  0.852580  0.046106  \n",
       "3  0.621948  0.201232  1.050233 -0.519521 -0.643553 -1.952818  \n",
       "4 -1.063000  0.554729 -0.378835 -0.236318  0.018657 -0.372142  \n",
       "\n",
       "[5 rows x 25 columns]"
      ]
     },
     "execution_count": 7,
     "metadata": {},
     "output_type": "execute_result"
    }
   ],
   "source": [
    "import pandas as pd \n",
    "x = pd.DataFrame(x, columns = cols)\n",
    "x.head()"
   ]
  },
  {
   "cell_type": "code",
   "execution_count": 8,
   "metadata": {},
   "outputs": [
    {
     "data": {
      "text/html": [
       "<div>\n",
       "<style scoped>\n",
       "    .dataframe tbody tr th:only-of-type {\n",
       "        vertical-align: middle;\n",
       "    }\n",
       "\n",
       "    .dataframe tbody tr th {\n",
       "        vertical-align: top;\n",
       "    }\n",
       "\n",
       "    .dataframe thead th {\n",
       "        text-align: right;\n",
       "    }\n",
       "</style>\n",
       "<table border=\"1\" class=\"dataframe\">\n",
       "  <thead>\n",
       "    <tr style=\"text-align: right;\">\n",
       "      <th></th>\n",
       "      <th>y</th>\n",
       "    </tr>\n",
       "  </thead>\n",
       "  <tbody>\n",
       "    <tr>\n",
       "      <th>0</th>\n",
       "      <td>-62.405233</td>\n",
       "    </tr>\n",
       "    <tr>\n",
       "      <th>1</th>\n",
       "      <td>-113.271490</td>\n",
       "    </tr>\n",
       "    <tr>\n",
       "      <th>2</th>\n",
       "      <td>51.858589</td>\n",
       "    </tr>\n",
       "    <tr>\n",
       "      <th>3</th>\n",
       "      <td>-9.275666</td>\n",
       "    </tr>\n",
       "    <tr>\n",
       "      <th>4</th>\n",
       "      <td>758.704644</td>\n",
       "    </tr>\n",
       "  </tbody>\n",
       "</table>\n",
       "</div>"
      ],
      "text/plain": [
       "            y\n",
       "0  -62.405233\n",
       "1 -113.271490\n",
       "2   51.858589\n",
       "3   -9.275666\n",
       "4  758.704644"
      ]
     },
     "execution_count": 8,
     "metadata": {},
     "output_type": "execute_result"
    }
   ],
   "source": [
    "y = pd.DataFrame(y, columns=['y'])\n",
    "y.head()"
   ]
  },
  {
   "cell_type": "markdown",
   "metadata": {},
   "source": [
    "### Create a scikit learn pipeline for x"
   ]
  },
  {
   "cell_type": "code",
   "execution_count": 9,
   "metadata": {},
   "outputs": [],
   "source": [
    "from sklearn.pipeline import  Pipeline\n",
    "from sklearn.impute import SimpleImputer\n",
    "from sklearn.preprocessing import StandardScaler"
   ]
  },
  {
   "cell_type": "code",
   "execution_count": 10,
   "metadata": {},
   "outputs": [],
   "source": [
    "num_pipe = Pipeline(steps=[('impute', SimpleImputer(strategy='mean')),\n",
    "                           ('scaler', StandardScaler())]).set_output(transform='pandas')"
   ]
  },
  {
   "cell_type": "code",
   "execution_count": 11,
   "metadata": {},
   "outputs": [
    {
     "data": {
      "text/html": [
       "<div>\n",
       "<style scoped>\n",
       "    .dataframe tbody tr th:only-of-type {\n",
       "        vertical-align: middle;\n",
       "    }\n",
       "\n",
       "    .dataframe tbody tr th {\n",
       "        vertical-align: top;\n",
       "    }\n",
       "\n",
       "    .dataframe thead th {\n",
       "        text-align: right;\n",
       "    }\n",
       "</style>\n",
       "<table border=\"1\" class=\"dataframe\">\n",
       "  <thead>\n",
       "    <tr style=\"text-align: right;\">\n",
       "      <th></th>\n",
       "      <th>x1</th>\n",
       "      <th>x2</th>\n",
       "      <th>x3</th>\n",
       "      <th>x4</th>\n",
       "      <th>x5</th>\n",
       "      <th>x6</th>\n",
       "      <th>x7</th>\n",
       "      <th>x8</th>\n",
       "      <th>x9</th>\n",
       "      <th>x10</th>\n",
       "      <th>...</th>\n",
       "      <th>x16</th>\n",
       "      <th>x17</th>\n",
       "      <th>x18</th>\n",
       "      <th>x19</th>\n",
       "      <th>x20</th>\n",
       "      <th>x21</th>\n",
       "      <th>x22</th>\n",
       "      <th>x23</th>\n",
       "      <th>x24</th>\n",
       "      <th>x25</th>\n",
       "    </tr>\n",
       "  </thead>\n",
       "  <tbody>\n",
       "    <tr>\n",
       "      <th>0</th>\n",
       "      <td>-0.092753</td>\n",
       "      <td>0.550378</td>\n",
       "      <td>0.163195</td>\n",
       "      <td>0.853668</td>\n",
       "      <td>-0.166594</td>\n",
       "      <td>0.606395</td>\n",
       "      <td>0.694133</td>\n",
       "      <td>-0.144509</td>\n",
       "      <td>-0.418188</td>\n",
       "      <td>-1.043575</td>\n",
       "      <td>...</td>\n",
       "      <td>0.445978</td>\n",
       "      <td>0.496885</td>\n",
       "      <td>-0.156815</td>\n",
       "      <td>-0.081149</td>\n",
       "      <td>0.345177</td>\n",
       "      <td>0.379135</td>\n",
       "      <td>-0.466351</td>\n",
       "      <td>0.075223</td>\n",
       "      <td>0.822635</td>\n",
       "      <td>-1.677026</td>\n",
       "    </tr>\n",
       "    <tr>\n",
       "      <th>1</th>\n",
       "      <td>0.176158</td>\n",
       "      <td>-1.365662</td>\n",
       "      <td>-2.827143</td>\n",
       "      <td>0.670905</td>\n",
       "      <td>-0.933037</td>\n",
       "      <td>-0.351972</td>\n",
       "      <td>1.299540</td>\n",
       "      <td>-1.988799</td>\n",
       "      <td>1.218763</td>\n",
       "      <td>0.582759</td>\n",
       "      <td>...</td>\n",
       "      <td>-0.041548</td>\n",
       "      <td>-0.755359</td>\n",
       "      <td>-1.535470</td>\n",
       "      <td>1.218656</td>\n",
       "      <td>1.633298</td>\n",
       "      <td>-1.225377</td>\n",
       "      <td>1.525487</td>\n",
       "      <td>-1.156353</td>\n",
       "      <td>1.399652</td>\n",
       "      <td>0.980147</td>\n",
       "    </tr>\n",
       "    <tr>\n",
       "      <th>2</th>\n",
       "      <td>0.209802</td>\n",
       "      <td>-0.333513</td>\n",
       "      <td>0.270019</td>\n",
       "      <td>0.191367</td>\n",
       "      <td>1.034869</td>\n",
       "      <td>1.019960</td>\n",
       "      <td>-0.820129</td>\n",
       "      <td>0.104493</td>\n",
       "      <td>-0.621969</td>\n",
       "      <td>0.406169</td>\n",
       "      <td>...</td>\n",
       "      <td>-0.111412</td>\n",
       "      <td>-1.390626</td>\n",
       "      <td>-1.351775</td>\n",
       "      <td>1.032647</td>\n",
       "      <td>-0.776984</td>\n",
       "      <td>0.706010</td>\n",
       "      <td>0.546451</td>\n",
       "      <td>0.669997</td>\n",
       "      <td>0.861815</td>\n",
       "      <td>0.041309</td>\n",
       "    </tr>\n",
       "    <tr>\n",
       "      <th>3</th>\n",
       "      <td>1.289992</td>\n",
       "      <td>1.279982</td>\n",
       "      <td>0.824117</td>\n",
       "      <td>0.603035</td>\n",
       "      <td>-0.356385</td>\n",
       "      <td>-1.672361</td>\n",
       "      <td>-0.298204</td>\n",
       "      <td>0.933337</td>\n",
       "      <td>-0.789120</td>\n",
       "      <td>0.701517</td>\n",
       "      <td>...</td>\n",
       "      <td>0.216983</td>\n",
       "      <td>0.288730</td>\n",
       "      <td>-1.534273</td>\n",
       "      <td>-0.561944</td>\n",
       "      <td>0.589477</td>\n",
       "      <td>0.195958</td>\n",
       "      <td>1.088291</td>\n",
       "      <td>-0.538730</td>\n",
       "      <td>-0.629895</td>\n",
       "      <td>-1.954584</td>\n",
       "    </tr>\n",
       "    <tr>\n",
       "      <th>4</th>\n",
       "      <td>0.083241</td>\n",
       "      <td>0.935074</td>\n",
       "      <td>2.181576</td>\n",
       "      <td>2.832142</td>\n",
       "      <td>1.775677</td>\n",
       "      <td>1.489389</td>\n",
       "      <td>-0.860410</td>\n",
       "      <td>-0.592745</td>\n",
       "      <td>-0.642089</td>\n",
       "      <td>1.421325</td>\n",
       "      <td>...</td>\n",
       "      <td>0.871335</td>\n",
       "      <td>-0.703193</td>\n",
       "      <td>1.029452</td>\n",
       "      <td>1.308175</td>\n",
       "      <td>-1.061816</td>\n",
       "      <td>0.549912</td>\n",
       "      <td>-0.364289</td>\n",
       "      <td>-0.255950</td>\n",
       "      <td>0.030358</td>\n",
       "      <td>-0.376305</td>\n",
       "    </tr>\n",
       "  </tbody>\n",
       "</table>\n",
       "<p>5 rows × 25 columns</p>\n",
       "</div>"
      ],
      "text/plain": [
       "         x1        x2        x3        x4        x5        x6        x7  \\\n",
       "0 -0.092753  0.550378  0.163195  0.853668 -0.166594  0.606395  0.694133   \n",
       "1  0.176158 -1.365662 -2.827143  0.670905 -0.933037 -0.351972  1.299540   \n",
       "2  0.209802 -0.333513  0.270019  0.191367  1.034869  1.019960 -0.820129   \n",
       "3  1.289992  1.279982  0.824117  0.603035 -0.356385 -1.672361 -0.298204   \n",
       "4  0.083241  0.935074  2.181576  2.832142  1.775677  1.489389 -0.860410   \n",
       "\n",
       "         x8        x9       x10  ...       x16       x17       x18       x19  \\\n",
       "0 -0.144509 -0.418188 -1.043575  ...  0.445978  0.496885 -0.156815 -0.081149   \n",
       "1 -1.988799  1.218763  0.582759  ... -0.041548 -0.755359 -1.535470  1.218656   \n",
       "2  0.104493 -0.621969  0.406169  ... -0.111412 -1.390626 -1.351775  1.032647   \n",
       "3  0.933337 -0.789120  0.701517  ...  0.216983  0.288730 -1.534273 -0.561944   \n",
       "4 -0.592745 -0.642089  1.421325  ...  0.871335 -0.703193  1.029452  1.308175   \n",
       "\n",
       "        x20       x21       x22       x23       x24       x25  \n",
       "0  0.345177  0.379135 -0.466351  0.075223  0.822635 -1.677026  \n",
       "1  1.633298 -1.225377  1.525487 -1.156353  1.399652  0.980147  \n",
       "2 -0.776984  0.706010  0.546451  0.669997  0.861815  0.041309  \n",
       "3  0.589477  0.195958  1.088291 -0.538730 -0.629895 -1.954584  \n",
       "4 -1.061816  0.549912 -0.364289 -0.255950  0.030358 -0.376305  \n",
       "\n",
       "[5 rows x 25 columns]"
      ]
     },
     "execution_count": 11,
     "metadata": {},
     "output_type": "execute_result"
    }
   ],
   "source": [
    "x_pre = num_pipe.fit_transform(x)\n",
    "x_pre.head()"
   ]
  },
  {
   "cell_type": "markdown",
   "metadata": {},
   "source": [
    "### Apply Train test split"
   ]
  },
  {
   "cell_type": "code",
   "execution_count": 12,
   "metadata": {},
   "outputs": [],
   "source": [
    "from sklearn.model_selection import train_test_split\n",
    "xtrain, xtest, ytrain, ytest = train_test_split(x_pre, y, test_size=0.2, random_state=21)"
   ]
  },
  {
   "cell_type": "code",
   "execution_count": 13,
   "metadata": {},
   "outputs": [
    {
     "data": {
      "text/html": [
       "<div>\n",
       "<style scoped>\n",
       "    .dataframe tbody tr th:only-of-type {\n",
       "        vertical-align: middle;\n",
       "    }\n",
       "\n",
       "    .dataframe tbody tr th {\n",
       "        vertical-align: top;\n",
       "    }\n",
       "\n",
       "    .dataframe thead th {\n",
       "        text-align: right;\n",
       "    }\n",
       "</style>\n",
       "<table border=\"1\" class=\"dataframe\">\n",
       "  <thead>\n",
       "    <tr style=\"text-align: right;\">\n",
       "      <th></th>\n",
       "      <th>x1</th>\n",
       "      <th>x2</th>\n",
       "      <th>x3</th>\n",
       "      <th>x4</th>\n",
       "      <th>x5</th>\n",
       "      <th>x6</th>\n",
       "      <th>x7</th>\n",
       "      <th>x8</th>\n",
       "      <th>x9</th>\n",
       "      <th>x10</th>\n",
       "      <th>...</th>\n",
       "      <th>x16</th>\n",
       "      <th>x17</th>\n",
       "      <th>x18</th>\n",
       "      <th>x19</th>\n",
       "      <th>x20</th>\n",
       "      <th>x21</th>\n",
       "      <th>x22</th>\n",
       "      <th>x23</th>\n",
       "      <th>x24</th>\n",
       "      <th>x25</th>\n",
       "    </tr>\n",
       "  </thead>\n",
       "  <tbody>\n",
       "    <tr>\n",
       "      <th>1643</th>\n",
       "      <td>-0.148836</td>\n",
       "      <td>1.646024</td>\n",
       "      <td>-0.342099</td>\n",
       "      <td>0.134427</td>\n",
       "      <td>0.065468</td>\n",
       "      <td>-1.497425</td>\n",
       "      <td>1.717240</td>\n",
       "      <td>1.220534</td>\n",
       "      <td>-1.608797</td>\n",
       "      <td>0.721692</td>\n",
       "      <td>...</td>\n",
       "      <td>-0.569857</td>\n",
       "      <td>0.563810</td>\n",
       "      <td>1.157320</td>\n",
       "      <td>-0.000253</td>\n",
       "      <td>0.637340</td>\n",
       "      <td>1.478496</td>\n",
       "      <td>0.891995</td>\n",
       "      <td>-0.820029</td>\n",
       "      <td>-2.439483</td>\n",
       "      <td>-0.276434</td>\n",
       "    </tr>\n",
       "    <tr>\n",
       "      <th>137</th>\n",
       "      <td>0.560270</td>\n",
       "      <td>0.409600</td>\n",
       "      <td>0.625067</td>\n",
       "      <td>0.719327</td>\n",
       "      <td>-0.428537</td>\n",
       "      <td>1.464351</td>\n",
       "      <td>0.429051</td>\n",
       "      <td>1.126049</td>\n",
       "      <td>-0.503052</td>\n",
       "      <td>1.809825</td>\n",
       "      <td>...</td>\n",
       "      <td>0.380052</td>\n",
       "      <td>-0.608583</td>\n",
       "      <td>-0.853360</td>\n",
       "      <td>-0.524844</td>\n",
       "      <td>-0.045628</td>\n",
       "      <td>-0.243688</td>\n",
       "      <td>-0.308007</td>\n",
       "      <td>1.869047</td>\n",
       "      <td>-0.488045</td>\n",
       "      <td>-1.255898</td>\n",
       "    </tr>\n",
       "    <tr>\n",
       "      <th>1205</th>\n",
       "      <td>0.371112</td>\n",
       "      <td>-1.017303</td>\n",
       "      <td>0.319827</td>\n",
       "      <td>-0.698346</td>\n",
       "      <td>0.038127</td>\n",
       "      <td>-0.205677</td>\n",
       "      <td>1.086682</td>\n",
       "      <td>-0.853457</td>\n",
       "      <td>-2.404544</td>\n",
       "      <td>-1.663056</td>\n",
       "      <td>...</td>\n",
       "      <td>-0.509540</td>\n",
       "      <td>0.075574</td>\n",
       "      <td>1.136698</td>\n",
       "      <td>-1.390335</td>\n",
       "      <td>0.516188</td>\n",
       "      <td>0.226376</td>\n",
       "      <td>1.662350</td>\n",
       "      <td>0.018686</td>\n",
       "      <td>0.724007</td>\n",
       "      <td>0.362217</td>\n",
       "    </tr>\n",
       "    <tr>\n",
       "      <th>523</th>\n",
       "      <td>-0.623943</td>\n",
       "      <td>0.628739</td>\n",
       "      <td>-0.692278</td>\n",
       "      <td>-0.028072</td>\n",
       "      <td>1.043654</td>\n",
       "      <td>-0.780815</td>\n",
       "      <td>-0.921352</td>\n",
       "      <td>1.083559</td>\n",
       "      <td>0.510453</td>\n",
       "      <td>1.230801</td>\n",
       "      <td>...</td>\n",
       "      <td>1.499426</td>\n",
       "      <td>-0.891676</td>\n",
       "      <td>0.624955</td>\n",
       "      <td>1.983470</td>\n",
       "      <td>-0.096286</td>\n",
       "      <td>-1.302251</td>\n",
       "      <td>-1.124388</td>\n",
       "      <td>-1.583036</td>\n",
       "      <td>1.365079</td>\n",
       "      <td>-0.736715</td>\n",
       "    </tr>\n",
       "    <tr>\n",
       "      <th>1493</th>\n",
       "      <td>0.556593</td>\n",
       "      <td>-0.858788</td>\n",
       "      <td>0.511648</td>\n",
       "      <td>0.553544</td>\n",
       "      <td>-0.333640</td>\n",
       "      <td>-0.493282</td>\n",
       "      <td>0.162264</td>\n",
       "      <td>0.032403</td>\n",
       "      <td>0.720440</td>\n",
       "      <td>-0.307799</td>\n",
       "      <td>...</td>\n",
       "      <td>0.439389</td>\n",
       "      <td>-1.064952</td>\n",
       "      <td>-0.552519</td>\n",
       "      <td>1.476817</td>\n",
       "      <td>-0.315408</td>\n",
       "      <td>2.119848</td>\n",
       "      <td>0.502687</td>\n",
       "      <td>1.114556</td>\n",
       "      <td>-0.044482</td>\n",
       "      <td>0.507678</td>\n",
       "    </tr>\n",
       "  </tbody>\n",
       "</table>\n",
       "<p>5 rows × 25 columns</p>\n",
       "</div>"
      ],
      "text/plain": [
       "            x1        x2        x3        x4        x5        x6        x7  \\\n",
       "1643 -0.148836  1.646024 -0.342099  0.134427  0.065468 -1.497425  1.717240   \n",
       "137   0.560270  0.409600  0.625067  0.719327 -0.428537  1.464351  0.429051   \n",
       "1205  0.371112 -1.017303  0.319827 -0.698346  0.038127 -0.205677  1.086682   \n",
       "523  -0.623943  0.628739 -0.692278 -0.028072  1.043654 -0.780815 -0.921352   \n",
       "1493  0.556593 -0.858788  0.511648  0.553544 -0.333640 -0.493282  0.162264   \n",
       "\n",
       "            x8        x9       x10  ...       x16       x17       x18  \\\n",
       "1643  1.220534 -1.608797  0.721692  ... -0.569857  0.563810  1.157320   \n",
       "137   1.126049 -0.503052  1.809825  ...  0.380052 -0.608583 -0.853360   \n",
       "1205 -0.853457 -2.404544 -1.663056  ... -0.509540  0.075574  1.136698   \n",
       "523   1.083559  0.510453  1.230801  ...  1.499426 -0.891676  0.624955   \n",
       "1493  0.032403  0.720440 -0.307799  ...  0.439389 -1.064952 -0.552519   \n",
       "\n",
       "           x19       x20       x21       x22       x23       x24       x25  \n",
       "1643 -0.000253  0.637340  1.478496  0.891995 -0.820029 -2.439483 -0.276434  \n",
       "137  -0.524844 -0.045628 -0.243688 -0.308007  1.869047 -0.488045 -1.255898  \n",
       "1205 -1.390335  0.516188  0.226376  1.662350  0.018686  0.724007  0.362217  \n",
       "523   1.983470 -0.096286 -1.302251 -1.124388 -1.583036  1.365079 -0.736715  \n",
       "1493  1.476817 -0.315408  2.119848  0.502687  1.114556 -0.044482  0.507678  \n",
       "\n",
       "[5 rows x 25 columns]"
      ]
     },
     "execution_count": 13,
     "metadata": {},
     "output_type": "execute_result"
    }
   ],
   "source": [
    "xtrain.head()"
   ]
  },
  {
   "cell_type": "code",
   "execution_count": 14,
   "metadata": {},
   "outputs": [
    {
     "data": {
      "text/html": [
       "<div>\n",
       "<style scoped>\n",
       "    .dataframe tbody tr th:only-of-type {\n",
       "        vertical-align: middle;\n",
       "    }\n",
       "\n",
       "    .dataframe tbody tr th {\n",
       "        vertical-align: top;\n",
       "    }\n",
       "\n",
       "    .dataframe thead th {\n",
       "        text-align: right;\n",
       "    }\n",
       "</style>\n",
       "<table border=\"1\" class=\"dataframe\">\n",
       "  <thead>\n",
       "    <tr style=\"text-align: right;\">\n",
       "      <th></th>\n",
       "      <th>y</th>\n",
       "    </tr>\n",
       "  </thead>\n",
       "  <tbody>\n",
       "    <tr>\n",
       "      <th>1643</th>\n",
       "      <td>28.003149</td>\n",
       "    </tr>\n",
       "    <tr>\n",
       "      <th>137</th>\n",
       "      <td>193.998301</td>\n",
       "    </tr>\n",
       "    <tr>\n",
       "      <th>1205</th>\n",
       "      <td>135.648192</td>\n",
       "    </tr>\n",
       "    <tr>\n",
       "      <th>523</th>\n",
       "      <td>124.002776</td>\n",
       "    </tr>\n",
       "    <tr>\n",
       "      <th>1493</th>\n",
       "      <td>402.889595</td>\n",
       "    </tr>\n",
       "  </tbody>\n",
       "</table>\n",
       "</div>"
      ],
      "text/plain": [
       "               y\n",
       "1643   28.003149\n",
       "137   193.998301\n",
       "1205  135.648192\n",
       "523   124.002776\n",
       "1493  402.889595"
      ]
     },
     "execution_count": 14,
     "metadata": {},
     "output_type": "execute_result"
    }
   ],
   "source": [
    "ytrain.head()"
   ]
  },
  {
   "cell_type": "code",
   "execution_count": 15,
   "metadata": {},
   "outputs": [
    {
     "data": {
      "text/html": [
       "<div>\n",
       "<style scoped>\n",
       "    .dataframe tbody tr th:only-of-type {\n",
       "        vertical-align: middle;\n",
       "    }\n",
       "\n",
       "    .dataframe tbody tr th {\n",
       "        vertical-align: top;\n",
       "    }\n",
       "\n",
       "    .dataframe thead th {\n",
       "        text-align: right;\n",
       "    }\n",
       "</style>\n",
       "<table border=\"1\" class=\"dataframe\">\n",
       "  <thead>\n",
       "    <tr style=\"text-align: right;\">\n",
       "      <th></th>\n",
       "      <th>x1</th>\n",
       "      <th>x2</th>\n",
       "      <th>x3</th>\n",
       "      <th>x4</th>\n",
       "      <th>x5</th>\n",
       "      <th>x6</th>\n",
       "      <th>x7</th>\n",
       "      <th>x8</th>\n",
       "      <th>x9</th>\n",
       "      <th>x10</th>\n",
       "      <th>...</th>\n",
       "      <th>x16</th>\n",
       "      <th>x17</th>\n",
       "      <th>x18</th>\n",
       "      <th>x19</th>\n",
       "      <th>x20</th>\n",
       "      <th>x21</th>\n",
       "      <th>x22</th>\n",
       "      <th>x23</th>\n",
       "      <th>x24</th>\n",
       "      <th>x25</th>\n",
       "    </tr>\n",
       "  </thead>\n",
       "  <tbody>\n",
       "    <tr>\n",
       "      <th>465</th>\n",
       "      <td>-0.298637</td>\n",
       "      <td>0.543377</td>\n",
       "      <td>-1.243556</td>\n",
       "      <td>-1.069891</td>\n",
       "      <td>0.480587</td>\n",
       "      <td>-0.931571</td>\n",
       "      <td>-1.191611</td>\n",
       "      <td>-0.647745</td>\n",
       "      <td>1.485839</td>\n",
       "      <td>-0.114818</td>\n",
       "      <td>...</td>\n",
       "      <td>0.503279</td>\n",
       "      <td>0.915305</td>\n",
       "      <td>1.667413</td>\n",
       "      <td>-0.364187</td>\n",
       "      <td>2.174443</td>\n",
       "      <td>0.366643</td>\n",
       "      <td>0.129457</td>\n",
       "      <td>0.428340</td>\n",
       "      <td>0.159657</td>\n",
       "      <td>-0.921224</td>\n",
       "    </tr>\n",
       "    <tr>\n",
       "      <th>904</th>\n",
       "      <td>2.380465</td>\n",
       "      <td>1.782549</td>\n",
       "      <td>1.032726</td>\n",
       "      <td>-0.432590</td>\n",
       "      <td>-1.677597</td>\n",
       "      <td>-1.196790</td>\n",
       "      <td>-0.752707</td>\n",
       "      <td>0.062107</td>\n",
       "      <td>0.466364</td>\n",
       "      <td>-2.323633</td>\n",
       "      <td>...</td>\n",
       "      <td>1.054418</td>\n",
       "      <td>1.306169</td>\n",
       "      <td>-0.188170</td>\n",
       "      <td>-0.253561</td>\n",
       "      <td>-0.419923</td>\n",
       "      <td>-0.492073</td>\n",
       "      <td>0.783569</td>\n",
       "      <td>1.011191</td>\n",
       "      <td>0.294617</td>\n",
       "      <td>0.407818</td>\n",
       "    </tr>\n",
       "    <tr>\n",
       "      <th>2639</th>\n",
       "      <td>-0.405611</td>\n",
       "      <td>1.265836</td>\n",
       "      <td>1.440010</td>\n",
       "      <td>-0.308673</td>\n",
       "      <td>0.953917</td>\n",
       "      <td>0.512976</td>\n",
       "      <td>-0.180054</td>\n",
       "      <td>0.556466</td>\n",
       "      <td>-0.185753</td>\n",
       "      <td>-1.806554</td>\n",
       "      <td>...</td>\n",
       "      <td>1.006708</td>\n",
       "      <td>-0.122817</td>\n",
       "      <td>0.378899</td>\n",
       "      <td>0.585762</td>\n",
       "      <td>-0.120941</td>\n",
       "      <td>-0.783682</td>\n",
       "      <td>0.981697</td>\n",
       "      <td>0.065289</td>\n",
       "      <td>0.951793</td>\n",
       "      <td>-1.291778</td>\n",
       "    </tr>\n",
       "    <tr>\n",
       "      <th>2125</th>\n",
       "      <td>0.194250</td>\n",
       "      <td>0.460337</td>\n",
       "      <td>-0.442693</td>\n",
       "      <td>-2.131231</td>\n",
       "      <td>-0.942275</td>\n",
       "      <td>-0.410114</td>\n",
       "      <td>-0.214340</td>\n",
       "      <td>0.098795</td>\n",
       "      <td>1.790706</td>\n",
       "      <td>-2.530378</td>\n",
       "      <td>...</td>\n",
       "      <td>-0.465140</td>\n",
       "      <td>0.378048</td>\n",
       "      <td>-1.075552</td>\n",
       "      <td>-1.121723</td>\n",
       "      <td>1.010791</td>\n",
       "      <td>-0.219637</td>\n",
       "      <td>-1.348125</td>\n",
       "      <td>-0.754679</td>\n",
       "      <td>0.566288</td>\n",
       "      <td>0.161486</td>\n",
       "    </tr>\n",
       "    <tr>\n",
       "      <th>1962</th>\n",
       "      <td>-0.643791</td>\n",
       "      <td>-0.758408</td>\n",
       "      <td>-1.698908</td>\n",
       "      <td>-0.585349</td>\n",
       "      <td>-0.124131</td>\n",
       "      <td>-0.149654</td>\n",
       "      <td>-0.165579</td>\n",
       "      <td>0.689791</td>\n",
       "      <td>1.719528</td>\n",
       "      <td>-0.585406</td>\n",
       "      <td>...</td>\n",
       "      <td>-0.993668</td>\n",
       "      <td>2.333470</td>\n",
       "      <td>-1.104693</td>\n",
       "      <td>-0.085060</td>\n",
       "      <td>1.355981</td>\n",
       "      <td>0.233352</td>\n",
       "      <td>-0.849215</td>\n",
       "      <td>-0.017121</td>\n",
       "      <td>0.179783</td>\n",
       "      <td>-1.805463</td>\n",
       "    </tr>\n",
       "  </tbody>\n",
       "</table>\n",
       "<p>5 rows × 25 columns</p>\n",
       "</div>"
      ],
      "text/plain": [
       "            x1        x2        x3        x4        x5        x6        x7  \\\n",
       "465  -0.298637  0.543377 -1.243556 -1.069891  0.480587 -0.931571 -1.191611   \n",
       "904   2.380465  1.782549  1.032726 -0.432590 -1.677597 -1.196790 -0.752707   \n",
       "2639 -0.405611  1.265836  1.440010 -0.308673  0.953917  0.512976 -0.180054   \n",
       "2125  0.194250  0.460337 -0.442693 -2.131231 -0.942275 -0.410114 -0.214340   \n",
       "1962 -0.643791 -0.758408 -1.698908 -0.585349 -0.124131 -0.149654 -0.165579   \n",
       "\n",
       "            x8        x9       x10  ...       x16       x17       x18  \\\n",
       "465  -0.647745  1.485839 -0.114818  ...  0.503279  0.915305  1.667413   \n",
       "904   0.062107  0.466364 -2.323633  ...  1.054418  1.306169 -0.188170   \n",
       "2639  0.556466 -0.185753 -1.806554  ...  1.006708 -0.122817  0.378899   \n",
       "2125  0.098795  1.790706 -2.530378  ... -0.465140  0.378048 -1.075552   \n",
       "1962  0.689791  1.719528 -0.585406  ... -0.993668  2.333470 -1.104693   \n",
       "\n",
       "           x19       x20       x21       x22       x23       x24       x25  \n",
       "465  -0.364187  2.174443  0.366643  0.129457  0.428340  0.159657 -0.921224  \n",
       "904  -0.253561 -0.419923 -0.492073  0.783569  1.011191  0.294617  0.407818  \n",
       "2639  0.585762 -0.120941 -0.783682  0.981697  0.065289  0.951793 -1.291778  \n",
       "2125 -1.121723  1.010791 -0.219637 -1.348125 -0.754679  0.566288  0.161486  \n",
       "1962 -0.085060  1.355981  0.233352 -0.849215 -0.017121  0.179783 -1.805463  \n",
       "\n",
       "[5 rows x 25 columns]"
      ]
     },
     "execution_count": 15,
     "metadata": {},
     "output_type": "execute_result"
    }
   ],
   "source": [
    "xtest.head()"
   ]
  },
  {
   "attachments": {
    "image.png": {
     "image/png": "[encoded data removed]"
    }
   },
   "cell_type": "markdown",
   "metadata": {},
   "source": [
    "## build a Neural Network\n",
    "![image.png](attachment:image.png)"
   ]
  },
  {
   "cell_type": "code",
   "execution_count": 16,
   "metadata": {},
   "outputs": [
    {
     "data": {
      "text/plain": [
       "(2400, 25)"
      ]
     },
     "execution_count": 16,
     "metadata": {},
     "output_type": "execute_result"
    }
   ],
   "source": [
    "xtrain.shape"
   ]
  },
  {
   "cell_type": "code",
   "execution_count": 17,
   "metadata": {},
   "outputs": [
    {
     "data": {
      "text/plain": [
       "25"
      ]
     },
     "execution_count": 17,
     "metadata": {},
     "output_type": "execute_result"
    }
   ],
   "source": [
    "xtrain.shape[1]"
   ]
  },
  {
   "cell_type": "code",
   "execution_count": 18,
   "metadata": {},
   "outputs": [
    {
     "name": "stdout",
     "output_type": "stream",
     "text": [
      "WARNING:tensorflow:From d:\\ETLHIVE\\Deep Learning\\Deel_Learning_Algo\\venv\\Lib\\site-packages\\keras\\src\\losses.py:2976: The name tf.losses.sparse_softmax_cross_entropy is deprecated. Please use tf.compat.v1.losses.sparse_softmax_cross_entropy instead.\n",
      "\n"
     ]
    }
   ],
   "source": [
    "from keras.models import Sequential\n",
    "from keras.layers import Dense"
   ]
  },
  {
   "cell_type": "code",
   "execution_count": 19,
   "metadata": {},
   "outputs": [
    {
     "name": "stdout",
     "output_type": "stream",
     "text": [
      "WARNING:tensorflow:From d:\\ETLHIVE\\Deep Learning\\Deel_Learning_Algo\\venv\\Lib\\site-packages\\keras\\src\\backend.py:873: The name tf.get_default_graph is deprecated. Please use tf.compat.v1.get_default_graph instead.\n",
      "\n"
     ]
    }
   ],
   "source": [
    "# Initialize the neural network\n",
    "model = Sequential()\n",
    "\n",
    "# Create hidden layer1\n",
    "model.add(Dense(units=64, activation='relu', input_shape=(xtrain.shape[1],)))\n",
    "\n",
    "# Create 2nd hidden layer with 32\n",
    "model.add(Dense(units=32, activation='relu'))\n",
    "\n",
    "# Create a output layer\n",
    "model.add(Dense(units=1, activation='linear'))"
   ]
  },
  {
   "cell_type": "markdown",
   "metadata": {},
   "source": [
    "### Compile the model"
   ]
  },
  {
   "cell_type": "code",
   "execution_count": 20,
   "metadata": {},
   "outputs": [
    {
     "name": "stdout",
     "output_type": "stream",
     "text": [
      "WARNING:tensorflow:From d:\\ETLHIVE\\Deep Learning\\Deel_Learning_Algo\\venv\\Lib\\site-packages\\keras\\src\\optimizers\\__init__.py:309: The name tf.train.Optimizer is deprecated. Please use tf.compat.v1.train.Optimizer instead.\n",
      "\n"
     ]
    }
   ],
   "source": [
    "model.compile(optimizer='adam', loss='mse', metrics=['mae'])"
   ]
  },
  {
   "cell_type": "code",
   "execution_count": 21,
   "metadata": {},
   "outputs": [
    {
     "name": "stdout",
     "output_type": "stream",
     "text": [
      "Epoch 1/100\n",
      "WARNING:tensorflow:From d:\\ETLHIVE\\Deep Learning\\Deel_Learning_Algo\\venv\\Lib\\site-packages\\keras\\src\\utils\\tf_utils.py:492: The name tf.ragged.RaggedTensorValue is deprecated. Please use tf.compat.v1.ragged.RaggedTensorValue instead.\n",
      "\n",
      "WARNING:tensorflow:From d:\\ETLHIVE\\Deep Learning\\Deel_Learning_Algo\\venv\\Lib\\site-packages\\keras\\src\\engine\\base_layer_utils.py:384: The name tf.executing_eagerly_outside_functions is deprecated. Please use tf.compat.v1.executing_eagerly_outside_functions instead.\n",
      "\n",
      "60/60 [==============================] - 3s 12ms/step - loss: 91814.2266 - mae: 244.9264 - val_loss: 78404.3516 - val_mae: 222.5840\n",
      "Epoch 2/100\n",
      "60/60 [==============================] - 0s 5ms/step - loss: 89030.0703 - mae: 241.1726 - val_loss: 73567.7188 - val_mae: 215.2718\n",
      "Epoch 3/100\n",
      "60/60 [==============================] - 0s 4ms/step - loss: 78002.6250 - mae: 224.7048 - val_loss: 58395.9492 - val_mae: 190.3181\n",
      "Epoch 4/100\n",
      "60/60 [==============================] - 0s 3ms/step - loss: 53650.7852 - mae: 183.0587 - val_loss: 32531.5508 - val_mae: 138.2385\n",
      "Epoch 5/100\n",
      "60/60 [==============================] - 0s 4ms/step - loss: 23824.4609 - mae: 115.0051 - val_loss: 10255.0557 - val_mae: 72.3912\n",
      "Epoch 6/100\n",
      "60/60 [==============================] - 0s 4ms/step - loss: 6150.9951 - mae: 55.2554 - val_loss: 2397.5754 - val_mae: 34.9238\n",
      "Epoch 7/100\n",
      "60/60 [==============================] - 0s 4ms/step - loss: 1724.9520 - mae: 30.8232 - val_loss: 1100.1957 - val_mae: 25.6530\n",
      "Epoch 8/100\n",
      "60/60 [==============================] - 0s 5ms/step - loss: 960.2758 - mae: 23.6708 - val_loss: 707.8171 - val_mae: 20.5458\n",
      "Epoch 9/100\n",
      "60/60 [==============================] - 0s 3ms/step - loss: 671.7075 - mae: 19.9087 - val_loss: 540.9475 - val_mae: 18.0896\n",
      "Epoch 10/100\n",
      "60/60 [==============================] - 0s 4ms/step - loss: 560.6456 - mae: 18.3575 - val_loss: 491.9303 - val_mae: 17.4996\n",
      "Epoch 11/100\n",
      "60/60 [==============================] - 0s 4ms/step - loss: 514.4542 - mae: 17.8224 - val_loss: 470.9185 - val_mae: 17.4264\n",
      "Epoch 12/100\n",
      "60/60 [==============================] - 0s 4ms/step - loss: 489.8731 - mae: 17.3840 - val_loss: 460.3702 - val_mae: 17.1937\n",
      "Epoch 13/100\n",
      "60/60 [==============================] - 0s 4ms/step - loss: 471.0227 - mae: 17.0879 - val_loss: 452.4919 - val_mae: 17.2412\n",
      "Epoch 14/100\n",
      "60/60 [==============================] - 0s 4ms/step - loss: 452.3279 - mae: 16.8181 - val_loss: 434.3952 - val_mae: 16.7750\n",
      "Epoch 15/100\n",
      "60/60 [==============================] - 0s 4ms/step - loss: 437.7520 - mae: 16.4443 - val_loss: 434.7345 - val_mae: 16.8492\n",
      "Epoch 16/100\n",
      "60/60 [==============================] - 0s 5ms/step - loss: 421.2593 - mae: 16.1998 - val_loss: 418.4945 - val_mae: 16.4298\n",
      "Epoch 17/100\n",
      "60/60 [==============================] - 0s 5ms/step - loss: 411.8348 - mae: 15.9748 - val_loss: 399.5443 - val_mae: 15.8242\n",
      "Epoch 18/100\n",
      "60/60 [==============================] - 0s 4ms/step - loss: 392.5681 - mae: 15.5878 - val_loss: 392.4444 - val_mae: 16.0393\n",
      "Epoch 19/100\n",
      "60/60 [==============================] - 0s 4ms/step - loss: 378.8951 - mae: 15.2939 - val_loss: 383.1566 - val_mae: 15.8309\n",
      "Epoch 20/100\n",
      "60/60 [==============================] - 0s 4ms/step - loss: 366.2533 - mae: 15.0863 - val_loss: 367.4807 - val_mae: 15.2333\n",
      "Epoch 21/100\n",
      "60/60 [==============================] - 0s 4ms/step - loss: 350.6605 - mae: 14.8047 - val_loss: 357.9445 - val_mae: 15.0032\n",
      "Epoch 22/100\n",
      "60/60 [==============================] - 0s 4ms/step - loss: 336.3295 - mae: 14.3747 - val_loss: 353.3386 - val_mae: 15.1810\n",
      "Epoch 23/100\n",
      "60/60 [==============================] - 0s 4ms/step - loss: 325.5748 - mae: 14.1455 - val_loss: 346.1228 - val_mae: 14.9731\n",
      "Epoch 24/100\n",
      "60/60 [==============================] - 0s 4ms/step - loss: 314.5158 - mae: 13.9367 - val_loss: 332.4645 - val_mae: 14.6492\n",
      "Epoch 25/100\n",
      "60/60 [==============================] - 0s 5ms/step - loss: 300.5609 - mae: 13.5884 - val_loss: 327.3487 - val_mae: 14.2890\n",
      "Epoch 26/100\n",
      "60/60 [==============================] - 0s 4ms/step - loss: 289.6496 - mae: 13.3063 - val_loss: 322.2176 - val_mae: 14.4040\n",
      "Epoch 27/100\n",
      "60/60 [==============================] - 0s 5ms/step - loss: 276.6101 - mae: 13.0184 - val_loss: 303.6422 - val_mae: 13.8317\n",
      "Epoch 28/100\n",
      "60/60 [==============================] - 0s 4ms/step - loss: 264.1485 - mae: 12.7309 - val_loss: 299.9311 - val_mae: 13.8780\n",
      "Epoch 29/100\n",
      "60/60 [==============================] - 0s 4ms/step - loss: 256.6861 - mae: 12.5564 - val_loss: 294.5118 - val_mae: 13.8389\n",
      "Epoch 30/100\n",
      "60/60 [==============================] - 0s 4ms/step - loss: 245.5805 - mae: 12.2109 - val_loss: 293.3703 - val_mae: 13.9395\n",
      "Epoch 31/100\n",
      "60/60 [==============================] - 0s 4ms/step - loss: 238.3916 - mae: 12.1456 - val_loss: 277.2174 - val_mae: 13.4337\n",
      "Epoch 32/100\n",
      "60/60 [==============================] - 0s 4ms/step - loss: 225.0381 - mae: 11.7780 - val_loss: 275.0223 - val_mae: 13.3978\n",
      "Epoch 33/100\n",
      "60/60 [==============================] - 0s 4ms/step - loss: 216.0719 - mae: 11.4848 - val_loss: 262.5253 - val_mae: 13.1075\n",
      "Epoch 34/100\n",
      "60/60 [==============================] - 0s 4ms/step - loss: 208.5789 - mae: 11.3244 - val_loss: 259.8763 - val_mae: 13.0249\n",
      "Epoch 35/100\n",
      "60/60 [==============================] - 0s 6ms/step - loss: 199.2905 - mae: 11.0210 - val_loss: 257.3292 - val_mae: 12.9386\n",
      "Epoch 36/100\n",
      "60/60 [==============================] - 0s 4ms/step - loss: 190.2564 - mae: 10.8479 - val_loss: 243.8831 - val_mae: 12.5645\n",
      "Epoch 37/100\n",
      "60/60 [==============================] - 0s 5ms/step - loss: 180.7187 - mae: 10.5424 - val_loss: 243.9183 - val_mae: 12.6600\n",
      "Epoch 38/100\n",
      "60/60 [==============================] - 0s 5ms/step - loss: 177.3664 - mae: 10.4040 - val_loss: 235.0586 - val_mae: 12.3496\n",
      "Epoch 39/100\n",
      "60/60 [==============================] - 0s 6ms/step - loss: 168.7776 - mae: 10.1689 - val_loss: 236.8670 - val_mae: 12.3555\n",
      "Epoch 40/100\n",
      "60/60 [==============================] - 0s 7ms/step - loss: 162.7890 - mae: 9.9989 - val_loss: 230.1284 - val_mae: 12.2654\n",
      "Epoch 41/100\n",
      "60/60 [==============================] - 0s 8ms/step - loss: 156.3290 - mae: 9.7868 - val_loss: 224.3894 - val_mae: 12.1356\n",
      "Epoch 42/100\n",
      "60/60 [==============================] - 0s 6ms/step - loss: 149.8112 - mae: 9.6385 - val_loss: 218.0411 - val_mae: 11.9732\n",
      "Epoch 43/100\n",
      "60/60 [==============================] - 0s 6ms/step - loss: 145.5084 - mae: 9.4640 - val_loss: 212.0158 - val_mae: 11.7549\n",
      "Epoch 44/100\n",
      "60/60 [==============================] - 1s 13ms/step - loss: 140.4640 - mae: 9.2999 - val_loss: 214.5720 - val_mae: 11.8403\n",
      "Epoch 45/100\n",
      "60/60 [==============================] - 1s 9ms/step - loss: 135.5129 - mae: 9.1619 - val_loss: 211.6988 - val_mae: 11.7742\n",
      "Epoch 46/100\n",
      "60/60 [==============================] - 0s 7ms/step - loss: 130.6277 - mae: 8.9926 - val_loss: 206.4567 - val_mae: 11.5474\n",
      "Epoch 47/100\n",
      "60/60 [==============================] - 1s 11ms/step - loss: 125.9976 - mae: 8.8608 - val_loss: 199.5655 - val_mae: 11.4541\n",
      "Epoch 48/100\n",
      "60/60 [==============================] - 0s 7ms/step - loss: 122.6816 - mae: 8.7504 - val_loss: 196.4442 - val_mae: 11.3341\n",
      "Epoch 49/100\n",
      "60/60 [==============================] - 0s 7ms/step - loss: 119.6660 - mae: 8.5830 - val_loss: 193.8395 - val_mae: 11.2453\n",
      "Epoch 50/100\n",
      "60/60 [==============================] - 0s 5ms/step - loss: 114.8573 - mae: 8.4514 - val_loss: 191.7777 - val_mae: 11.1955\n",
      "Epoch 51/100\n",
      "60/60 [==============================] - 0s 6ms/step - loss: 111.9531 - mae: 8.3456 - val_loss: 188.0984 - val_mae: 11.0718\n",
      "Epoch 52/100\n",
      "60/60 [==============================] - 0s 5ms/step - loss: 108.8074 - mae: 8.2427 - val_loss: 191.0087 - val_mae: 11.1671\n",
      "Epoch 53/100\n",
      "60/60 [==============================] - 0s 8ms/step - loss: 107.0054 - mae: 8.1816 - val_loss: 183.7260 - val_mae: 10.9464\n",
      "Epoch 54/100\n",
      "60/60 [==============================] - 0s 7ms/step - loss: 103.4501 - mae: 8.0161 - val_loss: 182.5641 - val_mae: 10.8792\n",
      "Epoch 55/100\n",
      "60/60 [==============================] - 0s 7ms/step - loss: 100.6870 - mae: 7.9207 - val_loss: 178.9705 - val_mae: 10.7891\n",
      "Epoch 56/100\n",
      "60/60 [==============================] - 0s 7ms/step - loss: 98.6402 - mae: 7.8356 - val_loss: 181.0210 - val_mae: 10.8288\n",
      "Epoch 57/100\n",
      "60/60 [==============================] - 1s 10ms/step - loss: 97.0642 - mae: 7.7807 - val_loss: 178.9398 - val_mae: 10.7591\n",
      "Epoch 58/100\n",
      "60/60 [==============================] - 0s 6ms/step - loss: 94.3375 - mae: 7.6781 - val_loss: 179.9290 - val_mae: 10.7834\n",
      "Epoch 59/100\n",
      "60/60 [==============================] - 0s 6ms/step - loss: 93.7770 - mae: 7.6505 - val_loss: 178.8526 - val_mae: 10.7496\n",
      "Epoch 60/100\n",
      "60/60 [==============================] - 0s 4ms/step - loss: 90.5241 - mae: 7.5277 - val_loss: 173.7434 - val_mae: 10.6241\n",
      "Epoch 61/100\n",
      "60/60 [==============================] - 0s 4ms/step - loss: 90.4423 - mae: 7.5228 - val_loss: 174.4405 - val_mae: 10.6833\n",
      "Epoch 62/100\n",
      "60/60 [==============================] - 0s 5ms/step - loss: 88.7751 - mae: 7.4196 - val_loss: 179.2935 - val_mae: 10.7564\n",
      "Epoch 63/100\n",
      "60/60 [==============================] - 0s 5ms/step - loss: 88.3861 - mae: 7.3853 - val_loss: 173.4660 - val_mae: 10.6063\n",
      "Epoch 64/100\n",
      "60/60 [==============================] - 0s 4ms/step - loss: 85.6296 - mae: 7.2799 - val_loss: 172.9419 - val_mae: 10.5836\n",
      "Epoch 65/100\n",
      "60/60 [==============================] - 0s 5ms/step - loss: 84.1971 - mae: 7.2724 - val_loss: 175.1564 - val_mae: 10.6104\n",
      "Epoch 66/100\n",
      "60/60 [==============================] - 0s 6ms/step - loss: 83.7404 - mae: 7.1996 - val_loss: 173.6063 - val_mae: 10.5534\n",
      "Epoch 67/100\n",
      "60/60 [==============================] - 0s 5ms/step - loss: 82.2699 - mae: 7.1875 - val_loss: 167.5965 - val_mae: 10.4007\n",
      "Epoch 68/100\n",
      "60/60 [==============================] - 0s 5ms/step - loss: 81.0563 - mae: 7.0944 - val_loss: 172.8097 - val_mae: 10.5299\n",
      "Epoch 69/100\n",
      "60/60 [==============================] - 0s 5ms/step - loss: 81.0959 - mae: 7.1005 - val_loss: 171.8425 - val_mae: 10.5335\n",
      "Epoch 70/100\n",
      "60/60 [==============================] - 0s 4ms/step - loss: 78.4517 - mae: 7.0138 - val_loss: 170.9543 - val_mae: 10.5027\n",
      "Epoch 71/100\n",
      "60/60 [==============================] - 0s 3ms/step - loss: 78.7762 - mae: 6.9714 - val_loss: 170.9135 - val_mae: 10.5062\n",
      "Epoch 72/100\n",
      "60/60 [==============================] - 0s 5ms/step - loss: 77.9403 - mae: 6.9433 - val_loss: 175.8992 - val_mae: 10.6941\n",
      "Epoch 73/100\n",
      "60/60 [==============================] - 0s 6ms/step - loss: 77.4299 - mae: 6.9052 - val_loss: 171.4938 - val_mae: 10.5785\n",
      "Epoch 74/100\n",
      "60/60 [==============================] - 0s 5ms/step - loss: 76.5619 - mae: 6.9043 - val_loss: 171.7066 - val_mae: 10.5245\n",
      "Epoch 75/100\n",
      "60/60 [==============================] - 0s 4ms/step - loss: 75.3396 - mae: 6.8265 - val_loss: 165.4493 - val_mae: 10.3933\n",
      "Epoch 76/100\n",
      "60/60 [==============================] - 0s 5ms/step - loss: 74.4018 - mae: 6.7845 - val_loss: 169.5574 - val_mae: 10.4483\n",
      "Epoch 77/100\n",
      "60/60 [==============================] - 0s 3ms/step - loss: 75.3000 - mae: 6.8143 - val_loss: 168.2225 - val_mae: 10.4064\n",
      "Epoch 78/100\n",
      "60/60 [==============================] - 0s 4ms/step - loss: 73.5176 - mae: 6.7634 - val_loss: 169.0372 - val_mae: 10.4940\n",
      "Epoch 79/100\n",
      "60/60 [==============================] - 0s 3ms/step - loss: 72.3881 - mae: 6.6835 - val_loss: 169.8283 - val_mae: 10.5144\n",
      "Epoch 80/100\n",
      "60/60 [==============================] - 0s 4ms/step - loss: 72.2341 - mae: 6.6511 - val_loss: 173.8852 - val_mae: 10.6265\n",
      "Epoch 81/100\n",
      "60/60 [==============================] - 0s 4ms/step - loss: 70.9292 - mae: 6.6171 - val_loss: 171.5072 - val_mae: 10.5188\n",
      "Epoch 82/100\n",
      "60/60 [==============================] - 0s 4ms/step - loss: 70.7364 - mae: 6.6076 - val_loss: 173.6040 - val_mae: 10.6074\n",
      "Epoch 83/100\n",
      "60/60 [==============================] - 0s 5ms/step - loss: 70.3466 - mae: 6.5729 - val_loss: 168.8661 - val_mae: 10.4622\n",
      "Epoch 84/100\n",
      "60/60 [==============================] - 0s 5ms/step - loss: 69.5324 - mae: 6.5335 - val_loss: 170.3870 - val_mae: 10.4858\n",
      "Epoch 85/100\n",
      "60/60 [==============================] - 0s 5ms/step - loss: 69.8259 - mae: 6.6062 - val_loss: 169.5754 - val_mae: 10.4846\n",
      "Epoch 86/100\n",
      "60/60 [==============================] - 0s 4ms/step - loss: 68.8430 - mae: 6.5079 - val_loss: 167.9395 - val_mae: 10.3830\n",
      "Epoch 87/100\n",
      "60/60 [==============================] - 0s 5ms/step - loss: 69.9209 - mae: 6.5872 - val_loss: 170.2949 - val_mae: 10.5183\n",
      "Epoch 88/100\n",
      "60/60 [==============================] - 0s 5ms/step - loss: 68.1590 - mae: 6.4740 - val_loss: 167.0577 - val_mae: 10.3805\n",
      "Epoch 89/100\n",
      "60/60 [==============================] - 0s 4ms/step - loss: 67.5862 - mae: 6.4298 - val_loss: 172.1281 - val_mae: 10.5402\n",
      "Epoch 90/100\n",
      "60/60 [==============================] - 0s 4ms/step - loss: 68.6516 - mae: 6.4760 - val_loss: 172.1613 - val_mae: 10.6280\n",
      "Epoch 91/100\n",
      "60/60 [==============================] - 0s 5ms/step - loss: 67.9604 - mae: 6.4668 - val_loss: 173.5070 - val_mae: 10.5253\n",
      "Epoch 92/100\n",
      "60/60 [==============================] - 0s 4ms/step - loss: 67.2699 - mae: 6.3939 - val_loss: 169.7311 - val_mae: 10.4673\n",
      "Epoch 93/100\n",
      "60/60 [==============================] - 0s 4ms/step - loss: 66.3529 - mae: 6.3891 - val_loss: 170.2458 - val_mae: 10.5428\n",
      "Epoch 94/100\n",
      "60/60 [==============================] - 0s 4ms/step - loss: 65.7357 - mae: 6.3602 - val_loss: 172.1213 - val_mae: 10.5056\n",
      "Epoch 95/100\n",
      "60/60 [==============================] - 0s 4ms/step - loss: 65.7057 - mae: 6.3394 - val_loss: 170.9924 - val_mae: 10.4916\n",
      "Epoch 96/100\n",
      "60/60 [==============================] - 0s 3ms/step - loss: 66.2614 - mae: 6.3292 - val_loss: 170.5736 - val_mae: 10.5215\n",
      "Epoch 97/100\n",
      "60/60 [==============================] - 0s 3ms/step - loss: 65.6281 - mae: 6.3381 - val_loss: 173.2957 - val_mae: 10.6128\n",
      "Epoch 98/100\n",
      "60/60 [==============================] - 0s 3ms/step - loss: 63.8760 - mae: 6.2357 - val_loss: 171.7585 - val_mae: 10.5409\n",
      "Epoch 99/100\n",
      "60/60 [==============================] - 0s 4ms/step - loss: 63.9983 - mae: 6.2544 - val_loss: 176.8898 - val_mae: 10.6964\n",
      "Epoch 100/100\n",
      "60/60 [==============================] - 0s 3ms/step - loss: 64.7666 - mae: 6.2799 - val_loss: 177.0461 - val_mae: 10.6467\n"
     ]
    }
   ],
   "source": [
    "hist = model.fit(xtrain, ytrain, validation_split=0.2, epochs=100)"
   ]
  },
  {
   "cell_type": "markdown",
   "metadata": {},
   "source": [
    "### Plot the learning curve"
   ]
  },
  {
   "cell_type": "code",
   "execution_count": 22,
   "metadata": {},
   "outputs": [
    {
     "data": {
      "image/png": "[encoded data removed]",
      "text/plain": [
       "<Figure size 1000x500 with 1 Axes>"
      ]
     },
     "metadata": {},
     "output_type": "display_data"
    }
   ],
   "source": [
    "import matplotlib.pyplot as plt \n",
    "plt.figure(figsize=(10,5))\n",
    "plt.plot(hist.history['loss'], label = 'Training Loss')\n",
    "plt.plot(hist.history['val_loss'], label='Validation Loss')\n",
    "plt.xlabel('Epochs')\n",
    "plt.ylabel('Mean Squared Error')\n",
    "plt.title('Learning Curve')\n",
    "plt.legend()\n",
    "plt.show()"
   ]
  },
  {
   "cell_type": "markdown",
   "metadata": {},
   "source": [
    "### Evaluate the model"
   ]
  },
  {
   "cell_type": "code",
   "execution_count": 23,
   "metadata": {},
   "outputs": [
    {
     "name": "stdout",
     "output_type": "stream",
     "text": [
      "75/75 [==============================] - 0s 3ms/step - loss: 83.1678 - mae: 6.9610\n"
     ]
    },
    {
     "data": {
      "text/plain": [
       "[83.16776275634766, 6.961000919342041]"
      ]
     },
     "execution_count": 23,
     "metadata": {},
     "output_type": "execute_result"
    }
   ],
   "source": [
    "model.evaluate(xtrain, ytrain)"
   ]
  },
  {
   "cell_type": "code",
   "execution_count": 24,
   "metadata": {},
   "outputs": [
    {
     "name": "stdout",
     "output_type": "stream",
     "text": [
      "19/19 [==============================] - 0s 4ms/step - loss: 168.7710 - mae: 10.2907\n"
     ]
    },
    {
     "data": {
      "text/plain": [
       "[168.77101135253906, 10.290705680847168]"
      ]
     },
     "execution_count": 24,
     "metadata": {},
     "output_type": "execute_result"
    }
   ],
   "source": [
    "model.evaluate(xtest, ytest)"
   ]
  },
  {
   "cell_type": "markdown",
   "metadata": {},
   "source": [
    "### predicting values for train and test"
   ]
  },
  {
   "cell_type": "code",
   "execution_count": 25,
   "metadata": {},
   "outputs": [
    {
     "name": "stdout",
     "output_type": "stream",
     "text": [
      "75/75 [==============================] - 0s 2ms/step\n",
      "19/19 [==============================] - 0s 2ms/step\n"
     ]
    }
   ],
   "source": [
    "ypred_tr = model.predict(xtrain)\n",
    "ypred_ts = model.predict(xtest)"
   ]
  },
  {
   "cell_type": "code",
   "execution_count": 26,
   "metadata": {},
   "outputs": [
    {
     "data": {
      "text/plain": [
       "array([[ 34.713284],\n",
       "       [192.09485 ],\n",
       "       [134.08716 ],\n",
       "       [126.419334],\n",
       "       [409.01733 ]], dtype=float32)"
      ]
     },
     "execution_count": 26,
     "metadata": {},
     "output_type": "execute_result"
    }
   ],
   "source": [
    "ypred_tr[0:5]"
   ]
  },
  {
   "cell_type": "code",
   "execution_count": 27,
   "metadata": {},
   "outputs": [
    {
     "data": {
      "text/html": [
       "<div>\n",
       "<style scoped>\n",
       "    .dataframe tbody tr th:only-of-type {\n",
       "        vertical-align: middle;\n",
       "    }\n",
       "\n",
       "    .dataframe tbody tr th {\n",
       "        vertical-align: top;\n",
       "    }\n",
       "\n",
       "    .dataframe thead th {\n",
       "        text-align: right;\n",
       "    }\n",
       "</style>\n",
       "<table border=\"1\" class=\"dataframe\">\n",
       "  <thead>\n",
       "    <tr style=\"text-align: right;\">\n",
       "      <th></th>\n",
       "      <th>y</th>\n",
       "    </tr>\n",
       "  </thead>\n",
       "  <tbody>\n",
       "    <tr>\n",
       "      <th>1643</th>\n",
       "      <td>28.003149</td>\n",
       "    </tr>\n",
       "    <tr>\n",
       "      <th>137</th>\n",
       "      <td>193.998301</td>\n",
       "    </tr>\n",
       "    <tr>\n",
       "      <th>1205</th>\n",
       "      <td>135.648192</td>\n",
       "    </tr>\n",
       "    <tr>\n",
       "      <th>523</th>\n",
       "      <td>124.002776</td>\n",
       "    </tr>\n",
       "    <tr>\n",
       "      <th>1493</th>\n",
       "      <td>402.889595</td>\n",
       "    </tr>\n",
       "  </tbody>\n",
       "</table>\n",
       "</div>"
      ],
      "text/plain": [
       "               y\n",
       "1643   28.003149\n",
       "137   193.998301\n",
       "1205  135.648192\n",
       "523   124.002776\n",
       "1493  402.889595"
      ]
     },
     "execution_count": 27,
     "metadata": {},
     "output_type": "execute_result"
    }
   ],
   "source": [
    "ytrain.head()"
   ]
  },
  {
   "cell_type": "code",
   "execution_count": 28,
   "metadata": {},
   "outputs": [
    {
     "data": {
      "text/plain": [
       "array([[-340.99866 ],\n",
       "       [  34.254444],\n",
       "       [  50.549854],\n",
       "       [-439.6447  ],\n",
       "       [-739.5754  ]], dtype=float32)"
      ]
     },
     "execution_count": 28,
     "metadata": {},
     "output_type": "execute_result"
    }
   ],
   "source": [
    "ypred_ts[0:5]"
   ]
  },
  {
   "cell_type": "code",
   "execution_count": 29,
   "metadata": {},
   "outputs": [
    {
     "data": {
      "text/html": [
       "<div>\n",
       "<style scoped>\n",
       "    .dataframe tbody tr th:only-of-type {\n",
       "        vertical-align: middle;\n",
       "    }\n",
       "\n",
       "    .dataframe tbody tr th {\n",
       "        vertical-align: top;\n",
       "    }\n",
       "\n",
       "    .dataframe thead th {\n",
       "        text-align: right;\n",
       "    }\n",
       "</style>\n",
       "<table border=\"1\" class=\"dataframe\">\n",
       "  <thead>\n",
       "    <tr style=\"text-align: right;\">\n",
       "      <th></th>\n",
       "      <th>y</th>\n",
       "    </tr>\n",
       "  </thead>\n",
       "  <tbody>\n",
       "    <tr>\n",
       "      <th>465</th>\n",
       "      <td>-330.280172</td>\n",
       "    </tr>\n",
       "    <tr>\n",
       "      <th>904</th>\n",
       "      <td>44.278744</td>\n",
       "    </tr>\n",
       "    <tr>\n",
       "      <th>2639</th>\n",
       "      <td>47.049952</td>\n",
       "    </tr>\n",
       "    <tr>\n",
       "      <th>2125</th>\n",
       "      <td>-416.384167</td>\n",
       "    </tr>\n",
       "    <tr>\n",
       "      <th>1962</th>\n",
       "      <td>-720.979849</td>\n",
       "    </tr>\n",
       "  </tbody>\n",
       "</table>\n",
       "</div>"
      ],
      "text/plain": [
       "               y\n",
       "465  -330.280172\n",
       "904    44.278744\n",
       "2639   47.049952\n",
       "2125 -416.384167\n",
       "1962 -720.979849"
      ]
     },
     "execution_count": 29,
     "metadata": {},
     "output_type": "execute_result"
    }
   ],
   "source": [
    "ytest.head()"
   ]
  },
  {
   "cell_type": "markdown",
   "metadata": {},
   "source": [
    "### Calculating R2 Score in train and test"
   ]
  },
  {
   "cell_type": "code",
   "execution_count": 30,
   "metadata": {},
   "outputs": [],
   "source": [
    "from sklearn.metrics import r2_score"
   ]
  },
  {
   "cell_type": "code",
   "execution_count": 31,
   "metadata": {},
   "outputs": [
    {
     "data": {
      "text/plain": [
       "0.9990712566809988"
      ]
     },
     "execution_count": 31,
     "metadata": {},
     "output_type": "execute_result"
    }
   ],
   "source": [
    "tr_r2 = r2_score(ytrain, ypred_tr)\n",
    "tr_r2"
   ]
  },
  {
   "cell_type": "code",
   "execution_count": 32,
   "metadata": {},
   "outputs": [
    {
     "data": {
      "text/plain": [
       "0.9981591396412712"
      ]
     },
     "execution_count": 32,
     "metadata": {},
     "output_type": "execute_result"
    }
   ],
   "source": [
    "ts_r2 = r2_score(ytest, ypred_ts)\n",
    "ts_r2"
   ]
  },
  {
   "cell_type": "markdown",
   "metadata": {},
   "source": [
    "### Saving the neural network model for given dataset"
   ]
  },
  {
   "cell_type": "code",
   "execution_count": 33,
   "metadata": {},
   "outputs": [
    {
     "name": "stdout",
     "output_type": "stream",
     "text": [
      "Model: \"sequential\"\n",
      "_________________________________________________________________\n",
      " Layer (type)                Output Shape              Param #   \n",
      "=================================================================\n",
      " dense (Dense)               (None, 64)                1664      \n",
      "                                                                 \n",
      " dense_1 (Dense)             (None, 32)                2080      \n",
      "                                                                 \n",
      " dense_2 (Dense)             (None, 1)                 33        \n",
      "                                                                 \n",
      "=================================================================\n",
      "Total params: 3777 (14.75 KB)\n",
      "Trainable params: 3777 (14.75 KB)\n",
      "Non-trainable params: 0 (0.00 Byte)\n",
      "_________________________________________________________________\n"
     ]
    }
   ],
   "source": [
    "model.summary()"
   ]
  },
  {
   "cell_type": "code",
   "execution_count": 34,
   "metadata": {},
   "outputs": [],
   "source": [
    "model.save('Regression.keras')"
   ]
  },
  {
   "cell_type": "markdown",
   "metadata": {},
   "source": [
    "### Loading the model"
   ]
  },
  {
   "cell_type": "code",
   "execution_count": 35,
   "metadata": {},
   "outputs": [
    {
     "name": "stdout",
     "output_type": "stream",
     "text": [
      "Model: \"sequential\"\n",
      "_________________________________________________________________\n",
      " Layer (type)                Output Shape              Param #   \n",
      "=================================================================\n",
      " dense (Dense)               (None, 64)                1664      \n",
      "                                                                 \n",
      " dense_1 (Dense)             (None, 32)                2080      \n",
      "                                                                 \n",
      " dense_2 (Dense)             (None, 1)                 33        \n",
      "                                                                 \n",
      "=================================================================\n",
      "Total params: 3777 (14.75 KB)\n",
      "Trainable params: 3777 (14.75 KB)\n",
      "Non-trainable params: 0 (0.00 Byte)\n",
      "_________________________________________________________________\n"
     ]
    }
   ],
   "source": [
    "from keras.models import load_model\n",
    "nn = load_model('Regression.keras')\n",
    "nn.summary()"
   ]
  },
  {
   "cell_type": "code",
   "execution_count": null,
   "metadata": {},
   "outputs": [],
   "source": []
  }
 ],
 "metadata": {
  "kernelspec": {
   "display_name": "Python 3",
   "language": "python",
   "name": "python3"
  },
  "language_info": {
   "codemirror_mode": {
    "name": "ipython",
    "version": 3
   },
   "file_extension": ".py",
   "mimetype": "text/x-python",
   "name": "python",
   "nbconvert_exporter": "python",
   "pygments_lexer": "ipython3",
   "version": "3.11.1"
  }
 },
 "nbformat": 4,
 "nbformat_minor": 2
}
